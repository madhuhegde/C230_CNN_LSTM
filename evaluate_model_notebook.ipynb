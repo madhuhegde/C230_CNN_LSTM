{
 "cells": [
  {
   "cell_type": "code",
   "execution_count": 14,
   "metadata": {},
   "outputs": [],
   "source": [
    "import json\n",
    "import pandas as pd\n",
    "import seaborn as sn\n",
    "import numpy as np\n",
    "import tensorflow as tf \n",
    "import argparse\n",
    "from sklearn.metrics import confusion_matrix\n",
    "from sklearn.metrics import classification_report\n",
    "from tensorflow.keras.utils import plot_model\n",
    "from tensorflow.keras.applications.vgg16 import VGG16\n",
    "from tensorflow.keras.models import Model\n",
    "from tensorflow.keras.layers import Dense, Input, Dropout\n",
    "from tensorflow.keras.layers import GlobalAveragePooling2D\n",
    "from tensorflow.keras.layers import LSTM\n",
    "from tensorflow.keras.layers import TimeDistributed\n",
    "from tensorflow.keras.optimizers import Nadam\n",
    "from tensorflow.keras.callbacks import EarlyStopping, ModelCheckpoint, TensorBoard\n",
    "from tensorflow.keras.utils import multi_gpu_model\n",
    "from keras.models import load_model\n",
    "from CNN_LSTM_load_data import  generator_train, generator_test, generator_eval\n",
    "from CNN_LSTM_split_data import generate_feature_train_list, generate_feature_test_list, generate_feature_eval_list\n",
    "from CNN_LSTM_Train_tf import get_VGG16_base, get_LSTM_model\n",
    "\n",
    "config = json.load(open('config/config.json'))\n",
    "base_dir = config['base_dir']\n",
    "history_dir = config[\"history_dir\"]\n",
    "\n",
    "base_image_dir = base_dir+\"images/\"\n",
    "base_label_dir = base_dir+\"labels/\"\n",
    "test_image_dir = base_image_dir + \"test/\"\n",
    "test_label_dir = base_label_dir + \"test/\"\n",
    "train_image_dir = base_image_dir + \"train/\"\n",
    "train_label_dir = base_label_dir + \"train/\"\n",
    "eval_image_dir = base_image_dir + \"eval/\"\n",
    "eval_label_dir = base_label_dir + \"eval/\"\n",
    "\n",
    "cnn_model_path = '../results/VGGSPLITLSTM/vgg16_model.h5'\n",
    "lstm_model_path = '../results/VGGSPLITLSTM/vgg15_split_lstm_model.h5'\n",
    "\n",
    "# 7 phases for surgical operation\n",
    "class_labels = [\"Preparation\", \"CalotTriangleDissection\", \"ClippingCutting\", \n",
    "           \"GallbladderDissection\", \"GallbladderPackaging\", \"CleaningCoagulation\", \"GallbladderRetraction\"]\n",
    "\n",
    "# Dimensions of input feature \n",
    "cnn_only = False\n",
    "frames = 1 if cnn_only else 15    #Number of frames over which LSTM prediction happens\n",
    "channels = 3  #RGB\n",
    "rows = 224    \n",
    "columns = 224 \n",
    "BATCH_SIZE = 1 if cnn_only else 8\n"
   ]
  },
  {
   "cell_type": "code",
   "execution_count": 15,
   "metadata": {},
   "outputs": [
    {
     "name": "stdout",
     "output_type": "stream",
     "text": [
      "15\n"
     ]
    }
   ],
   "source": [
    "print(frames)"
   ]
  },
  {
   "cell_type": "code",
   "execution_count": 16,
   "metadata": {},
   "outputs": [],
   "source": [
    "num_classes = len(class_labels)\n",
    "video = Input(shape=(frames,rows,columns,channels))\n",
    "#cnn_model = get_VGG16_base()\n",
    "cnn_model = tf.keras.models.load_model(cnn_model_path)\n",
    "#cnn_model.load_weights(cnn_model_path)\n",
    "#l_model = get_LSTM_model(video, cnn_model)\n",
    "#l_model.load_weights(lstm_model_path)\n",
    "l_model = tf.keras.models.load_model(lstm_model_path)\n",
    "#l_model.summary()"
   ]
  },
  {
   "cell_type": "code",
   "execution_count": 17,
   "metadata": {},
   "outputs": [],
   "source": [
    "model = l_model\n",
    "#model = cnn_model\n",
    "optimizer = Nadam(lr=0.00001,\n",
    "                  beta_1=0.9,\n",
    "                  beta_2=0.999,\n",
    "                  epsilon=1e-08,\n",
    "                  schedule_decay=0.004)\n",
    "\n",
    "#softmax crossentropy\n",
    "model.compile(loss=\"categorical_crossentropy\",\n",
    "              optimizer=optimizer,\n",
    "              metrics=[\"categorical_accuracy\"]) \n"
   ]
  },
  {
   "cell_type": "code",
   "execution_count": 18,
   "metadata": {},
   "outputs": [
    {
     "name": "stdout",
     "output_type": "stream",
     "text": [
      "Validatation Length:48360\n"
     ]
    }
   ],
   "source": [
    "validation_samples = generate_feature_eval_list(eval_image_dir, eval_label_dir)\n",
    "validation_len = int(len(validation_samples)/(BATCH_SIZE*frames))\n",
    "validation_len = (validation_len-2)*BATCH_SIZE*frames\n",
    "validation_samples = validation_samples[0:validation_len]\n",
    "print (\"Validatation Length:{0}\".format(validation_len))"
   ]
  },
  {
   "cell_type": "code",
   "execution_count": null,
   "metadata": {},
   "outputs": [],
   "source": [
    "#define callback functions\n",
    "#OuputImageCallback = CustomImageCallback( validation_generator, log_dir = './logs/Graph')\n",
    "\n",
    "model_callbacks = [TensorBoard(log_dir='./logs/Graph', histogram_freq=5, write_graph=True, write_images=True, write_grads=True)]\n",
    "\n",
    "# load data and predict\n",
    "y = None\n",
    "yhat = None\n",
    "num_batches = int(len(validation_samples)/(BATCH_SIZE*frames))\n",
    "print(\"Input count: {0}, Batch count: {1}\".format(len(validation_samples), num_batches))\n",
    "\n",
    "validation_generator = generator_eval(validation_samples, batch_size=BATCH_SIZE, frames_per_clip=frames, shuffle=False)\n",
    "steps = 0\n",
    "for x_batch, y_batch in validation_generator:\n",
    "    steps+=1\n",
    "    #print(\"Batch# {0}, Input shape {1}, X-Length {2}, gt shape {3}, Y-Length {4}\".format(steps, np.shape(x_batch),len(x_batch[0]), np.shape(y_batch), len(y_batch)))\n",
    "    if y is None:\n",
    "        y = y_batch\n",
    "    else: \n",
    "        y = np.concatenate((y, y_batch))\n",
    "\n",
    "    # loss = lstm_model.evaluate_generator(validation_generator, steps=int(len(validation_samples)/(BATCH_SIZE*frames)), max_queue_size=10, workers=1, use_multiprocessing=False, verbose=1)\n",
    "    if cnn_only:\n",
    "        x_batch = x_batch[0]\n",
    "    pred_batch = model.predict(x = x_batch, verbose=1)\n",
    "    print(np.shape(pred_batch)) \n",
    "    if yhat is None:\n",
    "        yhat = pred_batch\n",
    "    else:\n",
    "        yhat = np.concatenate((yhat, pred_batch))\n",
    "    #yhat.append(pred_batch)\n",
    "    if steps >= num_batches: break\n",
    "\n",
    "yhat = np.argmax(yhat, axis=1)\n",
    "y =  np.argmax(y, axis=1)\n",
    "\n",
    "predfile = open('./logs/predictions_Yhat.txt', 'wt')\n",
    "predfile.write('\\r\\n'.join(str(p).strip() for p in yhat))\n",
    "predfile.close()\n",
    "\n",
    "validationfile = open('./logs/input_X.txt', 'wt')\n",
    "validationfile.write('\\r\\n'.join(str(s) for s in validation_samples))\n",
    "validationfile.close()\n",
    "\n",
    "gtfile = open('./logs/gt_Y.txt', 'wt')\n",
    "gtfile.write('\\r\\n'.join(str(s) for s in y))\n",
    "gtfile.close()\n",
    "\n",
    "ytrue_labels = [class_labels[i] for i in y]\n",
    "yhat_labels = [class_labels[i] for i in yhat]\n",
    "print(\"ytrue_labels\", ytrue_labels)\n",
    "print(\"ypred_labels\", yhat_labels)\n",
    "#print(\"ground truth\", [class_labels[i] for i in y])\n",
    "#print(\"predictions\", [class_labels[i] for i in yhat])\n",
    "\n",
    "cm = confusion_matrix(y, yhat, labels = [0, 1, 2, 3, 4, 5, 6])\n",
    "print(cm)\n",
    "\n",
    "cr = classification_report(y, yhat, [0, 1, 2, 3, 4, 5, 6], class_labels)\n",
    "print(cr)\n",
    "\n"
   ]
  },
  {
   "cell_type": "code",
   "execution_count": null,
   "metadata": {},
   "outputs": [],
   "source": [
    "sn.heatmap(cm, cmap='Blues', annot=True, fmt=\"d\")"
   ]
  },
  {
   "cell_type": "code",
   "execution_count": 2,
   "metadata": {},
   "outputs": [],
   "source": [
    "cm = [[114,1,2,0,16,4,5],[18,505,583,62,75,172,3],[0,5,163,0,1,23,0],[18,32,201,330,90,233,0],[4,1,1,0,92,13,0],[29,1,16,9,42,219,5],[32,1,7,0,27,24,45]]"
   ]
  },
  {
   "cell_type": "code",
   "execution_count": 14,
   "metadata": {},
   "outputs": [
    {
     "data": {
      "text/plain": [
       "<matplotlib.axes._subplots.AxesSubplot at 0x7f7b3a8a8f28>"
      ]
     },
     "execution_count": 14,
     "metadata": {},
     "output_type": "execute_result"
    },
    {
     "data": {
      "image/png": "[encoded data removed]",
      "text/plain": [
       "<Figure size 432x288 with 2 Axes>"
      ]
     },
     "metadata": {
      "needs_background": "light"
     },
     "output_type": "display_data"
    }
   ],
   "source": [
    "import seaborn as sn\n",
    "custom = sn.light_palette(\"blue\", reverse=False)\n",
    "sn.heatmap(cm, cmap=custom, annot=True, fmt=\"d\")"
   ]
  },
  {
   "cell_type": "code",
   "execution_count": 5,
   "metadata": {},
   "outputs": [
    {
     "ename": "NameError",
     "evalue": "name 'num_classes' is not defined",
     "output_type": "error",
     "traceback": [
      "\u001b[0;31m---------------------------------------------------------------------------\u001b[0m",
      "\u001b[0;31mNameError\u001b[0m                                 Traceback (most recent call last)",
      "\u001b[0;32m<ipython-input-5-198a3c605442>\u001b[0m in \u001b[0;36m<module>\u001b[0;34m\u001b[0m\n\u001b[1;32m      7\u001b[0m \u001b[0;31m#plt.title('Confusion matrix of the classifier')\u001b[0m\u001b[0;34m\u001b[0m\u001b[0;34m\u001b[0m\u001b[0;34m\u001b[0m\u001b[0m\n\u001b[1;32m      8\u001b[0m \u001b[0mfig\u001b[0m\u001b[0;34m.\u001b[0m\u001b[0mcolorbar\u001b[0m\u001b[0;34m(\u001b[0m\u001b[0mcax\u001b[0m\u001b[0;34m)\u001b[0m\u001b[0;34m\u001b[0m\u001b[0;34m\u001b[0m\u001b[0m\n\u001b[0;32m----> 9\u001b[0;31m \u001b[0mtick_marks\u001b[0m \u001b[0;34m=\u001b[0m \u001b[0mnp\u001b[0m\u001b[0;34m.\u001b[0m\u001b[0marange\u001b[0m\u001b[0;34m(\u001b[0m\u001b[0mnum_classes\u001b[0m\u001b[0;34m)\u001b[0m\u001b[0;34m\u001b[0m\u001b[0;34m\u001b[0m\u001b[0m\n\u001b[0m\u001b[1;32m     10\u001b[0m \u001b[0mplt\u001b[0m\u001b[0;34m.\u001b[0m\u001b[0mxticks\u001b[0m\u001b[0;34m(\u001b[0m\u001b[0mtick_marks\u001b[0m\u001b[0;34m,\u001b[0m \u001b[0mlabels\u001b[0m\u001b[0;34m,\u001b[0m \u001b[0mrotation\u001b[0m\u001b[0;34m=\u001b[0m\u001b[0;36m90\u001b[0m\u001b[0;34m)\u001b[0m\u001b[0;34m\u001b[0m\u001b[0;34m\u001b[0m\u001b[0m\n\u001b[1;32m     11\u001b[0m \u001b[0mplt\u001b[0m\u001b[0;34m.\u001b[0m\u001b[0myticks\u001b[0m\u001b[0;34m(\u001b[0m\u001b[0mtick_marks\u001b[0m\u001b[0;34m,\u001b[0m \u001b[0mlabels\u001b[0m\u001b[0;34m)\u001b[0m\u001b[0;34m\u001b[0m\u001b[0;34m\u001b[0m\u001b[0m\n",
      "\u001b[0;31mNameError\u001b[0m: name 'num_classes' is not defined"
     ]
    },
    {
     "data": {
      "image/png": "[encoded data removed]",
      "text/plain": [
       "<Figure size 720x720 with 2 Axes>"
      ]
     },
     "metadata": {
      "needs_background": "light"
     },
     "output_type": "display_data"
    }
   ],
   "source": [
    "#print(cm)\n",
    "import matplotlib.pyplot as plt\n",
    "import numpy as np\n",
    "fig = plt.figure(figsize = (10,10))\n",
    "ax = fig.add_subplot(111)\n",
    "cax = ax.matshow(cm)\n",
    "#plt.title('Confusion matrix of the classifier')\n",
    "fig.colorbar(cax)\n",
    "tick_marks = np.arange(num_classes)\n",
    "plt.xticks(tick_marks, labels, rotation=90)\n",
    "plt.yticks(tick_marks, labels)\n",
    "plt.xlabel('Predicted')\n",
    "plt.ylabel('Truth')\n",
    "plt.show()"
   ]
  },
  {
   "cell_type": "code",
   "execution_count": null,
   "metadata": {},
   "outputs": [],
   "source": []
  }
 ],
 "metadata": {
  "kernelspec": {
   "display_name": "Python 3",
   "language": "python",
   "name": "python3"
  },
  "language_info": {
   "codemirror_mode": {
    "name": "ipython",
    "version": 3
   },
   "file_extension": ".py",
   "mimetype": "text/x-python",
   "name": "python",
   "nbconvert_exporter": "python",
   "pygments_lexer": "ipython3",
   "version": "3.7.3"
  }
 },
 "nbformat": 4,
 "nbformat_minor": 2
}
